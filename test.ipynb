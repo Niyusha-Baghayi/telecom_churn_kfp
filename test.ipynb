{
 "cells": [
  {
   "cell_type": "code",
   "execution_count": 2,
   "metadata": {},
   "outputs": [],
   "source": [
    "import argparse\n",
    "import json\n",
    "import sys\n",
    "from pathlib import Path\n",
    "\n",
    "import pandas as pd\n",
    "from sklearn.model_selection import train_test_split\n",
    "\n",
    "from sklearn.ensemble import RandomForestClassifier\n",
    "from sklearn.metrics import accuracy_score"
   ]
  },
  {
   "cell_type": "code",
   "execution_count": 14,
   "metadata": {},
   "outputs": [],
   "source": [
    "telecom_cust = pd.read_csv(\"telecom_churn.csv\")\n",
    "telecom_cust[\"TotalCharges\"] = telecom_cust[\"TotalCharges\"][telecom_cust[\"TotalCharges\"]!=\" \"]\n",
    "telecom_cust = telecom_cust.dropna()\n",
    "\n",
    "# Gets and split dataset\n",
    "y = telecom_cust[\"Churn\"].values\n",
    "X = telecom_cust.drop(columns = [\"Churn\"])\n",
    "\n",
    "# Creates `data` structure to save and \n",
    "# share train and test datasets.\n",
    "data_raw = {\"X\" : X.values.tolist(), \"X_cols\": X.columns.tolist(), \"y\" : y.tolist(), \"y_col\":[\"Churn\"]}\n",
    "\n",
    "data_raw = json.dumps(data_raw)"
   ]
  },
  {
   "cell_type": "code",
   "execution_count": 15,
   "metadata": {},
   "outputs": [],
   "source": [
    "data = json.loads(data_raw)\n",
    "\n",
    "X = data['X']\n",
    "y = data['y']\n",
    "\n",
    "X = pd.DataFrame(X, columns=data[\"X_cols\"])\n",
    "y = pd.DataFrame(y, columns=data[\"y_col\"])\n",
    "\n",
    "\n",
    "# Converting Total Charges to a numerical data type.\n",
    "X[\"TotalCharges\"] = pd.to_numeric(X[\"TotalCharges\"])\n",
    "\n",
    "# Remove customer IDs from the data set\n",
    "X = X.iloc[:,1:]\n",
    "\n",
    "# Convertin the predictor variable in a binary numeric variable\n",
    "y['Churn'].replace(to_replace='Yes', value=1, inplace=True)\n",
    "y['Churn'].replace(to_replace='No',  value=0, inplace=True)\n",
    "\n",
    "# Let's convert all the categorical variables into dummy variables\n",
    "X = pd.get_dummies(X)\n",
    "\n",
    "# Split Dataset to train/test\n",
    "x_train, x_test, y_train, y_test = train_test_split(X, y, test_size=0.2)\n",
    "\n",
    "# # Initialize and train the model\n",
    "data = {\"X_train\" : x_train.values.tolist(), \"X_train_cols\": x_train.columns.tolist(), \"y_train\" : y_train.values.tolist(),\n",
    "        \"X_test\" : x_test.values.tolist(), \"X_test_cols\": x_test.columns.tolist(), \"y_test\" : y_test.values.tolist()}\n",
    "\n",
    "data = json.dumps(data)\n"
   ]
  },
  {
   "cell_type": "code",
   "execution_count": 16,
   "metadata": {},
   "outputs": [
    {
     "name": "stderr",
     "output_type": "stream",
     "text": [
      "C:\\Users\\Niu\\AppData\\Local\\Temp\\ipykernel_16464\\2987155708.py:18: DataConversionWarning: A column-vector y was passed when a 1d array was expected. Please change the shape of y to (n_samples,), for example using ravel().\n",
      "  model_rf.fit(x_train, y_train)\n",
      "c:\\Users\\Niu\\AppData\\Local\\Programs\\Python\\Python39\\lib\\site-packages\\sklearn\\base.py:445: UserWarning: X does not have valid feature names, but RandomForestClassifier was fitted with feature names\n",
      "  warnings.warn(\n"
     ]
    },
    {
     "name": "stdout",
     "output_type": "stream",
     "text": [
      "0.8009950248756219\n"
     ]
    }
   ],
   "source": [
    "data = json.loads(data)\n",
    "\n",
    "X_train = data['X_train']\n",
    "y_train = data['y_train']\n",
    "X_test = data['X_test']\n",
    "y_test = data['y_test']\n",
    "\n",
    "\n",
    "X_train = pd.DataFrame(X_train, columns=data[\"X_train_cols\"])\n",
    "X_test = pd.DataFrame(X_test, columns=data[\"X_test_cols\"])\n",
    "\n",
    "\n",
    "\n",
    "# Initialize and train the model\n",
    "model_rf = RandomForestClassifier(n_estimators=1000 , oob_score = True, n_jobs = -1,\n",
    "                                random_state =50, max_features = \"auto\",\n",
    "                                max_leaf_nodes = 30)\n",
    "model_rf.fit(x_train, y_train)\n",
    "\n",
    "# Get predictions\n",
    "y_pred = model_rf.predict(x_test)\n",
    "\n",
    "# Get accuracy\n",
    "accuracy = accuracy_score(y_test, y_pred)\n",
    "\n",
    "# Print the prediction accuracy\n",
    "print (accuracy)\n",
    "\n",
    "# importances = model_rf.feature_importances_\n",
    "# weights = pd.Series(importances,\n",
    "#                 index=x_train.columns.values)\n",
    "# print(weights.sort_values()[-10:].plot(kind = 'barh'))"
   ]
  }
 ],
 "metadata": {
  "interpreter": {
   "hash": "4e80a5bc791dcc042980bf028c0014813968e824b9d33356156b712728b35052"
  },
  "kernelspec": {
   "display_name": "Python 3.9.7 64-bit",
   "language": "python",
   "name": "python3"
  },
  "language_info": {
   "codemirror_mode": {
    "name": "ipython",
    "version": 3
   },
   "file_extension": ".py",
   "mimetype": "text/x-python",
   "name": "python",
   "nbconvert_exporter": "python",
   "pygments_lexer": "ipython3",
   "version": "3.9.7"
  },
  "orig_nbformat": 4
 },
 "nbformat": 4,
 "nbformat_minor": 2
}
